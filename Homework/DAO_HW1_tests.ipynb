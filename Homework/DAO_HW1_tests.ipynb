{
 "cells": [
  {
   "cell_type": "code",
   "execution_count": 2,
   "id": "40c1a32d",
   "metadata": {
    "collapsed": true,
    "jupyter": {
     "outputs_hidden": true
    },
    "tags": []
   },
   "outputs": [
    {
     "name": "stdout",
     "output_type": "stream",
     "text": [
      "Optimization terminated successfully.\n",
      "         Current function value: 0.000000\n",
      "         Iterations: 339\n",
      "         Function evaluations: 571\n"
     ]
    }
   ],
   "source": [
    "## straight from the SciPy tutorial.\n",
    "\n",
    "import numpy as np\n",
    "from scipy.optimize import minimize\n",
    "\n",
    "def rosen(x):\n",
    "    \"\"\"The Rosenbrock function\"\"\"\n",
    "    return sum(100.0*(x[1:]-x[:-1]**2.0)**2.0 + (1-x[:-1])**2.0)\n",
    "\n",
    "x0 = np.array([1.3, 0.7, 0.8, 1.9, 1.2])\n",
    "res = minimize(rosen, x0, method='nelder-mead',\n",
    "               options={'xatol': 1e-8, 'disp': True})"
   ]
  },
  {
   "cell_type": "code",
   "execution_count": 3,
   "id": "65e9fad6",
   "metadata": {},
   "outputs": [
    {
     "name": "stdout",
     "output_type": "stream",
     "text": [
      "[1. 1. 1. 1. 1.]\n"
     ]
    }
   ],
   "source": [
    "# bounds\n",
    "from scipy.optimize import Bounds\n",
    "bounds = Bounds([0, -0.5], [1.0, 2.0])\n",
    "\n",
    "# Linear constraints\n",
    "from scipy.optimize import LinearConstraint\n",
    "linear_constraint = LinearConstraint([[1, 2], [2, 1]], [-np.inf, 1], [1, 1])\n",
    "\n",
    "# Nonlinear constraints\n",
    "def cons_f(x):\n",
    "    return [x[0]**2 + x[1], x[0]**2 - x[1]]\n",
    "def cons_J(x):\n",
    "    return [[2*x[0], 1], [2*x[0], -1]]\n",
    "def cons_H(x, v):\n",
    "    return v[0]*np.array([[2, 0], [0, 0]]) + v[1]*np.array([[2, 0], [0, 0]])\n",
    "from scipy.optimize import NonlinearConstraint\n",
    "nonlinear_constraint = NonlinearConstraint(cons_f, -np.inf, 1, jac=cons_J, hess=cons_H)"
   ]
  },
  {
   "cell_type": "markdown",
   "id": "184e2e7e",
   "metadata": {},
   "source": [
    "# Hey look, this is a header.\n",
    "\n",
    "## And a Second Level.\n",
    "\n",
    "Text, huh? HOw about **bold**?"
   ]
  },
  {
   "cell_type": "code",
   "execution_count": 11,
   "id": "238c13b7",
   "metadata": {
    "collapsed": true,
    "jupyter": {
     "outputs_hidden": true
    },
    "scrolled": true,
    "tags": []
   },
   "outputs": [
    {
     "name": "stdout",
     "output_type": "stream",
     "text": [
      "solving.\n",
      "Optimization terminated successfully    (Exit mode 0)\n",
      "            Current function value: -2.1516574122704815\n",
      "            Iterations: 16\n",
      "            Function evaluations: 73\n",
      "            Gradient evaluations: 16\n",
      "solutions...\n",
      "length:1.290994534280064\n",
      "width:1.2909945520063175\n",
      "height:1.2909942585475396\n",
      "volume:2.1516574122704815\n",
      "SA:9.999999992907243\n"
     ]
    }
   ],
   "source": [
    "## Box optimization. limit the SA, maximize volume (from YouTube)\n",
    "\n",
    "import numpy as np\n",
    "from scipy.optimize import minimize\n",
    "\n",
    "# Volume calculator. AKA our objective function.\n",
    "def calcVolume(x):\n",
    "    length=x[0]\n",
    "    width=x[1]\n",
    "    height=x[2]\n",
    "    volume= length*width*height\n",
    "    return volume\n",
    "\n",
    "# Surface Area calc. Our constraint.\n",
    "def calcSurface(x):\n",
    "    length=x[0]\n",
    "    width=x[1]\n",
    "    height=x[2]\n",
    "    surfaceArea=2*length*width + 2*height*length +2*height*width\n",
    "    return surfaceArea\n",
    "\n",
    "# objective function, based on Volume calculator.\n",
    "def objective(x):\n",
    "    return -calcVolume(x) # we'll maximize the volume by minimizing the neg.\n",
    "\n",
    "def constraint(x): # The SA <= 10, or 10-SA >= 0, constraint. \n",
    "    return 10-calcSurface(x)\n",
    "\n",
    "# yknow what, let's try another constraint.\n",
    "def constraint2(x): # Let's say x[1] has to be 1.5 or more. So x[1]>=1.5\n",
    "    \n",
    "    return 10-calcSurface(x)\n",
    "\n",
    "# Need a dictionary for the constraints.\n",
    "\n",
    "cons = ({'type': 'ineq', 'fun':constraint}) # by convention this constraint is set >= 0.\n",
    "# type is the KEY, and 'ineq' is the VALUE. For the VALUE of 'fun', we put \n",
    "# our function 'constraint'\n",
    "\n",
    "# now let's guess.\n",
    "lguess = 1\n",
    "wguess = 1\n",
    "hguess = 6\n",
    "\n",
    "# we also need an ARRAY of the guesses.\n",
    "\n",
    "x0= np.array([lguess, wguess, hguess])\n",
    "\n",
    "# alright. time for our actual solver.\n",
    "print('solving.')\n",
    "sol= minimize(objective, x0, method='SLSQP', constraints=cons, options={'disp':True})\n",
    "# OBJECTIVE is a function, x0 is your GUESS, CONSTRAINTS takes a dictionary.\n",
    "# SLSQP can do constrained, non-linear.\n",
    "\n",
    "# Our solutions!\n",
    "print('solutions...')\n",
    "xOpt=sol.x # pull the x VECTOR out of the solver.\n",
    "volumeOpt=-sol.fun # what is this? It'll evaluate the obj function, but negate it.\n",
    "\n",
    "surfaceAreaOpt=calcSurface(xOpt) # find our final SA.\n",
    "\n",
    "print('length:' + str(xOpt[0]))\n",
    "print('width:' + str(xOpt[1]))\n",
    "print('height:' + str(xOpt[2]))\n",
    "print('volume:' + str(volumeOpt))\n",
    "print('SA:' + str(surfaceAreaOpt))\n",
    "\n",
    "\n",
    "\n",
    "\n",
    "\n",
    "\n",
    "\n",
    "\n",
    "\n",
    "\n"
   ]
  },
  {
   "cell_type": "markdown",
   "id": "06e469f5",
   "metadata": {},
   "source": [
    "# Heading one\n",
    "\n",
    "Hey look I wrote math.\n",
    "\n",
    "$$\n",
    "\\begin{aligned}\n",
    "&\\text{minimize:} && (x_1-x_2)^2 + (x_2+x_3-2)^2 + (x_4-1)^2+(x_5-1)^2 \\\\\\\\\n",
    "&\\text{subject to:} && x_1 + 3x_2 = 0 \\\\\\\\\n",
    "&&& x_3 + x_4 - 2x_5 = 0 \\\\\\\\\n",
    "&&& x_2 - x_5 = 0 \\\\\\\\\n",
    "&&& -10 \\leq x_i \\leq 10, \\forall i=1,\\ldots,5\n",
    "\\end{aligned}$$\n"
   ]
  },
  {
   "cell_type": "markdown",
   "id": "dccad102",
   "metadata": {},
   "source": [
    "## A Breakdown.\n",
    "\n",
    "So, the constraints are \n",
    "1. Equality\n",
    "2. Equality\n",
    "3. Equality\n",
    "4. Inequality bounding bewteen +/- 10\n",
    "\n",
    "You could probably combine 1-3 in a linear constraint. AND 4 is basically a bounds constraint! (LaTeX formatting somehow works here??)\n",
    "$$\\begin{bmatrix} 0 \\\\ 0 \\\\ 0 \\end{bmatrix}  \\leq \\begin{bmatrix} 1 & 3 & 0 & 0 & 0 \\\\ 0 & 0 & 1 & 1 & -2 \\\\ 0 & 1 & 0 & 0 & -5 \\end{bmatrix}  \\leq \\begin{bmatrix} 0 \\\\ 0 \\\\ 0 \\end{bmatrix}$$"
   ]
  },
  {
   "cell_type": "code",
   "execution_count": 31,
   "id": "bd6b7742-3b63-4b7a-9f89-659cdc982411",
   "metadata": {},
   "outputs": [
    {
     "name": "stdout",
     "output_type": "stream",
     "text": [
      "[0.5 0.5 1.  1.  1. ]\n",
      "0.5\n",
      "0.25\n"
     ]
    }
   ],
   "source": [
    "# Let's try that again, with the specific HW problem.\n",
    "import numpy as np\n",
    "from scipy.optimize import minimize\n",
    "from scipy.optimize import Bounds\n",
    "from scipy.optimize import LinearConstraint\n",
    "\n",
    "# Our objective function.\n",
    "def objf(x):  # note x is a 5-dimentional vector.\n",
    "    x1=x[0]\n",
    "    x2=x[1]\n",
    "    x3=x[2]\n",
    "    x4=x[3]\n",
    "    x5=x[4]\n",
    "\n",
    "    return (x1-x2)**2  +(x2+x3-2)**2 + (x4-1)**2 + (x5-1)**2 # what a function!\n",
    "\n",
    "# Test it!\n",
    "# print(objf(np.array([1, 2, 3, 4, 5]))) # hey it works.\n",
    "\n",
    "# Bounds object?\n",
    "\n",
    "bounds = Bounds([-10, -10, -10, -10, -10],[10, 10, 10, 10, 10]) # all LOWER bounds and all UPPER bounds.\n",
    "\n",
    "# linear constraint!\n",
    "lin_con=LinearConstraint([[1,3,0,0,0],[0,0,1,1,-2],[0,1,0,0,-5]],[0,0,0],[0,0,0]) # by columns i guess?\n",
    "\n",
    "# TAKE A GUESS.\n",
    "x0_1=np.array([.5, .5, 1, 1, 1]) # this is a row.\n",
    "print(x0) # looks OK.\n",
    "print(x0[1])\n",
    "print(objf(x0))\n"
   ]
  },
  {
   "cell_type": "code",
   "execution_count": 16,
   "id": "37b403cc-70fb-4c76-9b63-e41ba89fbf68",
   "metadata": {},
   "outputs": [
    {
     "name": "stdout",
     "output_type": "stream",
     "text": [
      "<scipy.optimize._constraints.LinearConstraint object at 0x00000140A7A4D250>\n"
     ]
    }
   ],
   "source": [
    "print(lin_con)"
   ]
  },
  {
   "cell_type": "code",
   "execution_count": 36,
   "id": "e9afcc5f-95de-4ad3-9a1d-ab76c0b034ea",
   "metadata": {},
   "outputs": [
    {
     "name": "stdout",
     "output_type": "stream",
     "text": [
      "Optimization terminated successfully    (Exit mode 0)\n",
      "            Current function value: 5.189189189593064\n",
      "            Iterations: 7\n",
      "            Function evaluations: 44\n",
      "            Gradient evaluations: 7\n",
      "The solution--------------\n",
      "[-0.40539178  0.13513059  0.45945567 -0.40540343  0.02702612]\n",
      "5.189189189593064\n",
      "-5.551115123125783e-17\n"
     ]
    }
   ],
   "source": [
    "# Let's do it I guess?\n",
    "\n",
    "sol= minimize(objf,x0, method='SLSQP',constraints=lin_con,options={'disp':True}, bounds=bounds)\n",
    "\n",
    "\n",
    "# and finally,\n",
    "print('The solution--------------')\n",
    "opx=sol.x\n",
    "print(opx)\n",
    "print(sol.fun)\n",
    "print(opx[0]+3*opx[1])"
   ]
  },
  {
   "cell_type": "markdown",
   "id": "352a0e86-0d69-4232-9188-d117f862c1df",
   "metadata": {},
   "source": [
    "## SO.\n",
    "\n",
    "All the framework is there. we just now need to run it with different ICs and then see if it changes."
   ]
  },
  {
   "cell_type": "code",
   "execution_count": 37,
   "id": "47746972-5e5a-4b6e-8bef-7e3befda36f7",
   "metadata": {},
   "outputs": [
    {
     "name": "stdout",
     "output_type": "stream",
     "text": [
      "Optimization terminated successfully    (Exit mode 0)\n",
      "            Current function value: 5.189189189593064\n",
      "            Iterations: 7\n",
      "            Function evaluations: 44\n",
      "            Gradient evaluations: 7\n",
      "The solution--------------\n",
      "[-0.40539178  0.13513059  0.45945567 -0.40540343  0.02702612]\n",
      "5.189189189593064\n",
      "-5.551115123125783e-17\n"
     ]
    }
   ],
   "source": [
    "x0_1=np.array([.5, 25, 1, 0, 1]) \n",
    "sol1= minimize(objf,x0, method='SLSQP',constraints=lin_con,options={'disp':True}, bounds=bounds)\n",
    "\n",
    "print('The solution--------------')\n",
    "opx_1=sol1.x\n",
    "print(opx_1)\n",
    "print(sol1.fun)\n",
    "print(opx_1[0]+3*opx_1[1])"
   ]
  },
  {
   "cell_type": "markdown",
   "id": "c705ed6a-2492-4776-9563-dcf6e2129a32",
   "metadata": {},
   "source": [
    "Hey look, it's the same solution. **yee. haw.**\n",
    "\n",
    "**Anyway let's try out some more math type while we're here.**\n",
    "\n",
    "$e^{i*\\pi} +1 = 0$ is a beautiful equation\n",
    "\n",
    "Oooo! I can put an equation in here. $ a^2 + b^2 = c^2 $  *wheeeee* Then if I want a line break: $$ x^2 = -3+5y $$\n",
    "\n",
    "$$\n",
    "\\begin{array}{}\n",
    "x_1 & x_2 & \\ldots \\\\\\\\\n",
    "x_3 & x_4 & \\ldots \\\\\\\\\n",
    "\\vdots & \\vdots & \\ddots\n",
    "\\end{array}\n",
    "$$"
   ]
  },
  {
   "cell_type": "code",
   "execution_count": 1,
   "id": "c9cdee95",
   "metadata": {},
   "outputs": [
    {
     "ename": "SyntaxError",
     "evalue": "invalid syntax (<ipython-input-1-d393f5c72433>, line 3)",
     "output_type": "error",
     "traceback": [
      "\u001b[1;36m  File \u001b[1;32m\"<ipython-input-1-d393f5c72433>\"\u001b[1;36m, line \u001b[1;32m3\u001b[0m\n\u001b[1;33m    from ___ import minimize here\u001b[0m\n\u001b[1;37m                             ^\u001b[0m\n\u001b[1;31mSyntaxError\u001b[0m\u001b[1;31m:\u001b[0m invalid syntax\n"
     ]
    }
   ],
   "source": [
    "# Professor's way\n",
    "\n",
    "from ___ import minimize here\n",
    "\n",
    "fun = lambda x: (x)....function here\n",
    "\n",
    "# a library of constraints\n",
    "cons = ({'type'...})\n",
    "\n",
    "bnds = ((-10,10)....and more)\n",
    "\n",
    "res= minimize(fun,(1,2,3,4,1), method='SLSQP', bounds=bnds, constraints=cons)\n",
    "# note that we put the arguments straight into the minimize function.\n"
   ]
  }
 ],
 "metadata": {
  "kernelspec": {
   "display_name": "Python 3",
   "language": "python",
   "name": "python3"
  },
  "language_info": {
   "codemirror_mode": {
    "name": "ipython",
    "version": 3
   },
   "file_extension": ".py",
   "mimetype": "text/x-python",
   "name": "python",
   "nbconvert_exporter": "python",
   "pygments_lexer": "ipython3",
   "version": "3.8.8"
  }
 },
 "nbformat": 4,
 "nbformat_minor": 5
}
