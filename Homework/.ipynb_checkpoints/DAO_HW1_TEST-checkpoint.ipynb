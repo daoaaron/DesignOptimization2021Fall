{
 "cells": [
  {
   "cell_type": "code",
   "execution_count": 2,
   "id": "40c1a32d",
   "metadata": {},
   "outputs": [
    {
     "name": "stdout",
     "output_type": "stream",
     "text": [
      "Optimization terminated successfully.\n",
      "         Current function value: 0.000000\n",
      "         Iterations: 339\n",
      "         Function evaluations: 571\n"
     ]
    }
   ],
   "source": [
    "import numpy as np\n",
    "from scipy.optimize import minimize\n",
    "\n",
    "def rosen(x):\n",
    "    \"\"\"The Rosenbrock function\"\"\"\n",
    "    return sum(100.0*(x[1:]-x[:-1]**2.0)**2.0 + (1-x[:-1])**2.0)\n",
    "\n",
    "x0 = np.array([1.3, 0.7, 0.8, 1.9, 1.2])\n",
    "res = minimize(rosen, x0, method='nelder-mead',\n",
    "               options={'xatol': 1e-8, 'disp': True})"
   ]
  },
  {
   "cell_type": "code",
   "execution_count": null,
   "id": "3062b9e8",
   "metadata": {},
   "outputs": [],
   "source": []
  },
  {
   "cell_type": "code",
   "execution_count": 3,
   "id": "65e9fad6",
   "metadata": {},
   "outputs": [
    {
     "name": "stdout",
     "output_type": "stream",
     "text": [
      "[1. 1. 1. 1. 1.]\n"
     ]
    }
   ],
   "source": [
    "# bounds\n",
    "from scipy.optimize import Bounds\n",
    "bounds = Bounds([0, -0.5], [1.0, 2.0])\n",
    "\n",
    "# Linear constraints\n",
    "from scipy.optimize import LinearConstraint\n",
    "linear_constraint = LinearConstraint([[1, 2], [2, 1]], [-np.inf, 1], [1, 1])\n",
    "\n",
    "# Nonlinear constraints\n",
    "def cons_f(x):\n",
    "    return [x[0]**2 + x[1], x[0]**2 - x[1]]\n",
    "def cons_J(x):\n",
    "    return [[2*x[0], 1], [2*x[0], -1]]\n",
    "def cons_H(x, v):\n",
    "    return v[0]*np.array([[2, 0], [0, 0]]) + v[1]*np.array([[2, 0], [0, 0]])\n",
    "from scipy.optimize import NonlinearConstraint\n",
    "nonlinear_constraint = NonlinearConstraint(cons_f, -np.inf, 1, jac=cons_J, hess=cons_H)"
   ]
  },
  {
   "cell_type": "markdown",
   "id": "184e2e7e",
   "metadata": {},
   "source": [
    "# Hey look, this is a header.\n",
    "\n",
    "## And a Second Level.\n",
    "\n",
    "Text, huh? HOw about **bold**?"
   ]
  },
  {
   "cell_type": "code",
   "execution_count": 3,
   "id": "238c13b7",
   "metadata": {},
   "outputs": [
    {
     "ename": "SyntaxError",
     "evalue": "invalid syntax (<ipython-input-3-c573b703bc8c>, line 44)",
     "output_type": "error",
     "traceback": [
      "\u001b[1;36m  File \u001b[1;32m\"<ipython-input-3-c573b703bc8c>\"\u001b[1;36m, line \u001b[1;32m44\u001b[0m\n\u001b[1;33m    sol= minimize(objective, x0, method = 'SLSQP', constraint=cons, options=('disp':True))\u001b[0m\n\u001b[1;37m                                                                                   ^\u001b[0m\n\u001b[1;31mSyntaxError\u001b[0m\u001b[1;31m:\u001b[0m invalid syntax\n"
     ]
    }
   ],
   "source": [
    "## Box optimization. limit the SA, maximize volume\n",
    "\n",
    "import numpy as np\n",
    "from scipy.optimize import minimize\n",
    "\n",
    "# Volume calculator.\n",
    "def calcVolume(x):\n",
    "    length=x[0]\n",
    "    width=x[1]\n",
    "    height=x[2]\n",
    "    volume= length*width*height\n",
    "    return volume\n",
    "\n",
    "# Surface Area calc.\n",
    "def calcSurface(x):\n",
    "    length=x[0]\n",
    "    width=x[1]\n",
    "    height=x[2]\n",
    "    surfaceArea=2*length*width + 2*height*length +2*height*width\n",
    "    return surfaceArea\n",
    "\n",
    "# objective function.\n",
    "def objective(x):\n",
    "    return -calcVolume(x) # we'll maximize the volume by minimizing the neg.\n",
    "\n",
    "def constraint(x):\n",
    "    return 10-calcSurface(x)\n",
    "\n",
    "# Need a dictionary for the constraints.\n",
    "\n",
    "cons = ({'type': 'ineq', 'fun':constraint}) # by convention this constraint is set <= 0.\n",
    "\n",
    "# now let's guess.\n",
    "lguess = 1\n",
    "wguess = 1\n",
    "hguess = 1\n",
    "\n",
    "# we also need an array of the guesses.\n",
    "\n",
    "x0= np.array([lguess, wguess, hguess])\n",
    "\n",
    "# alright. time for our actual solver.\n",
    "print('solving.')\n",
    "sol= minimize(objective, x0, method='SLSQP', constraint=cons, options={'disp':True})\n",
    "\n",
    "# SLSQP can do constrained, non-linear.\n",
    "\n",
    "# Our solutions!\n",
    "print('solutions...')\n",
    "xOpt=sol.x # pull the x VECTOR out of the solver.\n",
    "volumeOpt=-sol.fun # what is this? It'll evaluate the obj function, but negate it.\n",
    "\n",
    "surfaceAreaOpt=calcSurface(xOpt) # find our final SA.\n",
    "\n",
    "print('length:' + str(xOpt[0]))\n",
    "print('width:' + str(xOpt[1]))\n",
    "print('height:' + str(xOpt[2]))\n",
    "print('volume:' + str(volumeOpt))\n",
    "print('SA:' + str(surfaceAreaOpt))\n",
    "\n",
    "\n",
    "\n",
    "\n",
    "\n",
    "\n",
    "\n",
    "\n",
    "\n",
    "\n"
   ]
  },
  {
   "cell_type": "code",
   "execution_count": null,
   "id": "4e90f5db",
   "metadata": {},
   "outputs": [],
   "source": []
  }
 ],
 "metadata": {
  "kernelspec": {
   "display_name": "Python 3",
   "language": "python",
   "name": "python3"
  },
  "language_info": {
   "codemirror_mode": {
    "name": "ipython",
    "version": 3
   },
   "file_extension": ".py",
   "mimetype": "text/x-python",
   "name": "python",
   "nbconvert_exporter": "python",
   "pygments_lexer": "ipython3",
   "version": "3.8.8"
  }
 },
 "nbformat": 4,
 "nbformat_minor": 5
}
